{
 "cells": [
  {
   "cell_type": "markdown",
   "id": "6931425a",
   "metadata": {},
   "source": [
    "# Loading the data using .csv file"
   ]
  },
  {
   "cell_type": "code",
   "execution_count": 4,
   "id": "c020a7d7",
   "metadata": {
    "scrolled": true
   },
   "outputs": [
    {
     "name": "stdout",
     "output_type": "stream",
     "text": [
      "   Defect ID     Defect Name        Defect Type    Location  Severity    Size  \\\n",
      "0          1            Hole  Mechanical Defect   Left Edge     Major   Small   \n",
      "1          2            Tear       Weave Defect      Center  Critical  Medium   \n",
      "2          3           Stain         Dye Defect  Right Edge     Minor   Large   \n",
      "3          4         Wrinkle  Mechanical Defect      Center     Minor   Small   \n",
      "4          5  Missing Thread       Weave Defect   Left Edge     Major  Medium   \n",
      "\n",
      "  Color Date Detected    Detected By                                  Comments  \n",
      "0   NaN    2024-08-26       John Doe              Visible in the fabric's edge  \n",
      "1   NaN    2024-08-25     Jane Smith                 Requires immediate repair  \n",
      "2   Red    2024-08-24    Emily White  Stain not affecting structural integrity  \n",
      "3   NaN    2024-08-23  Michael Brown                         Temporary wrinkle  \n",
      "4   NaN    2024-08-22     Anna Black          Thread missing in a pattern area  \n"
     ]
    }
   ],
   "source": [
    "import pandas as pd\n",
    "\n",
    "# Load the CSV file into a DataFrame\n",
    "data = pd.read_csv('fabric_defects.csv')\n",
    "\n",
    "# Display the first few rows of the DataFrame\n",
    "print(data.head())\n"
   ]
  },
  {
   "cell_type": "markdown",
   "id": "0ca35507",
   "metadata": {},
   "source": [
    "# cleaning up the data from the .csv file"
   ]
  },
  {
   "cell_type": "code",
   "execution_count": null,
   "id": "7ae91cdd",
   "metadata": {},
   "outputs": [],
   "source": [
    "import pandas as pd\n",
    "\n",
    "# Load the CSV file into a DataFrame\n",
    "data = pd.read_csv('fabric_defects.csv')\n",
    "\n",
    "# Display the first few rows to understand the structure\n",
    "print(data.head())\n",
    "\n",
    "# 1. Drop duplicate rows\n",
    "data = data.drop_duplicates()\n",
    "\n",
    "# 2. Handle missing values\n",
    "# Example: Drop rows with missing values\n",
    "data = data.dropna()\n",
    "\n",
    "# Alternatively, you might fill missing values with a specific value or method\n",
    "# data = data.fillna(value={'column_name': 'default_value'})\n",
    "\n",
    "# 3. Correct data types if necessary\n",
    "# Example: Convert a column to a specific data type\n",
    "# data['column_name'] = data['column_name'].astype('int')\n",
    "\n",
    "# 4. Remove or replace outliers or erroneous data\n",
    "# Example: Remove rows where 'defect_size' is less than 0\n",
    "# data = data[data['defect_size'] >= 0]\n",
    "\n",
    "# 5. Reset index after dropping rows\n",
    "data.reset_index(drop=True, inplace=True)\n",
    "\n",
    "# Display the cleaned DataFrame\n",
    "print(data.head())\n"
   ]
  },
  {
   "cell_type": "markdown",
   "id": "f997d4dc",
   "metadata": {},
   "source": [
    "# Creating confusion matrix"
   ]
  },
  {
   "cell_type": "code",
   "execution_count": 6,
   "id": "ac8cb48b",
   "metadata": {},
   "outputs": [
    {
     "data": {
      "image/png": "[encoded data removed]",
      "text/plain": [
       "<Figure size 432x288 with 2 Axes>"
      ]
     },
     "metadata": {
      "needs_background": "light"
     },
     "output_type": "display_data"
    }
   ],
   "source": [
    "import pandas as pd\n",
    "from sklearn.metrics import confusion_matrix, ConfusionMatrixDisplay\n",
    "import matplotlib.pyplot as plt\n",
    "\n",
    "# Load the dataset\n",
    "df = pd.read_csv('fabric_defects.csv')\n",
    "\n",
    "# For demonstration, let's assume you have a column 'Predicted Defect Type'\n",
    "# In real scenarios, this would be generated by your defect detection model.\n",
    "# Here we just duplicate the actual 'Defect Type' as 'Predicted Defect Type' for demonstration.\n",
    "df['Predicted Defect Type'] = df['Defect Type']\n",
    "\n",
    "# Define true labels and predicted labels\n",
    "y_true = df['Defect Type']\n",
    "y_pred = df['Predicted Defect Type']\n",
    "\n",
    "# Generate the confusion matrix\n",
    "cm = confusion_matrix(y_true, y_pred, labels=df['Defect Type'].unique())\n",
    "\n",
    "# Create a confusion matrix display object\n",
    "disp = ConfusionMatrixDisplay(confusion_matrix=cm, display_labels=df['Defect Type'].unique())\n",
    "\n",
    "# Plot the confusion matrix\n",
    "disp.plot(cmap=plt.cm.Blues, values_format='d')\n",
    "plt.title('Confusion Matrix for Fabric Defects')\n",
    "plt.show()\n"
   ]
  },
  {
   "cell_type": "markdown",
   "id": "79e3ffe7",
   "metadata": {},
   "source": [
    "# Analysing the defect using the histogram"
   ]
  },
  {
   "cell_type": "code",
   "execution_count": 8,
   "id": "099bcfd1",
   "metadata": {},
   "outputs": [
    {
     "name": "stdout",
     "output_type": "stream",
     "text": [
      "       Defect ID\n",
      "count    80.0000\n",
      "mean     40.5000\n",
      "std      23.2379\n",
      "min       1.0000\n",
      "25%      20.7500\n",
      "50%      40.5000\n",
      "75%      60.2500\n",
      "max      80.0000\n"
     ]
    },
    {
     "data": {
      "image/png": "[encoded data removed]",
      "text/plain": [
       "<Figure size 432x288 with 1 Axes>"
      ]
     },
     "metadata": {
      "needs_background": "light"
     },
     "output_type": "display_data"
    }
   ],
   "source": [
    "import pandas as pd\n",
    "import seaborn as sns\n",
    "import matplotlib.pyplot as plt\n",
    "\n",
    "# Load the CSV file into a DataFrame\n",
    "data = pd.read_csv('fabric_defects.csv')\n",
    "\n",
    "# Print descriptive statistics for all numerical columns\n",
    "print(data.describe())\n",
    "\n",
    "# Plot a histogram for a specific column\n",
    "# Replace 'Size' with the actual column name you want to plot\n",
    "sns.histplot(data['Size'], bins=10, kde=False)\n",
    "\n",
    "# Add labels and title for better readability\n",
    "plt.xlabel('Defect Size')\n",
    "plt.ylabel('Frequency')\n",
    "plt.title('Distribution of Defect Sizes')\n",
    "\n",
    "# Show the plot\n",
    "plt.show()\n"
   ]
  },
  {
   "cell_type": "markdown",
   "id": "05038e6e",
   "metadata": {},
   "source": [
    "# Building and Evaluating using models"
   ]
  },
  {
   "cell_type": "markdown",
   "id": "e4324cd2",
   "metadata": {},
   "source": [
    "# by using Linear Regression"
   ]
  },
  {
   "cell_type": "code",
   "execution_count": 11,
   "id": "802bfba4",
   "metadata": {},
   "outputs": [
    {
     "name": "stdout",
     "output_type": "stream",
     "text": [
      "   Defect ID     Defect Name        Defect Type    Location  Severity    Size  \\\n",
      "0          1            Hole  Mechanical Defect   Left Edge     Major   Small   \n",
      "1          2            Tear       Weave Defect      Center  Critical  Medium   \n",
      "2          3           Stain         Dye Defect  Right Edge     Minor   Large   \n",
      "3          4         Wrinkle  Mechanical Defect      Center     Minor   Small   \n",
      "4          5  Missing Thread       Weave Defect   Left Edge     Major  Medium   \n",
      "\n",
      "  Color Date Detected    Detected By                                  Comments  \n",
      "0   NaN    2024-08-26       John Doe              Visible in the fabric's edge  \n",
      "1   NaN    2024-08-25     Jane Smith                 Requires immediate repair  \n",
      "2   Red    2024-08-24    Emily White  Stain not affecting structural integrity  \n",
      "3   NaN    2024-08-23  Michael Brown                         Temporary wrinkle  \n",
      "4   NaN    2024-08-22     Anna Black          Thread missing in a pattern area  \n",
      "Mean Squared Error: 0.5054274702069346\n",
      "R^2 Score: -0.4872348548617844\n"
     ]
    },
    {
     "data": {
      "image/png": "[encoded data removed]",
      "text/plain": [
       "<Figure size 720x432 with 1 Axes>"
      ]
     },
     "metadata": {
      "needs_background": "light"
     },
     "output_type": "display_data"
    }
   ],
   "source": [
    "import pandas as pd\n",
    "from sklearn.model_selection import train_test_split\n",
    "from sklearn.linear_model import LinearRegression\n",
    "from sklearn.metrics import mean_squared_error, r2_score\n",
    "import matplotlib.pyplot as plt\n",
    "from sklearn.preprocessing import LabelEncoder\n",
    "\n",
    "# Load the CSV file into a DataFrame\n",
    "data = pd.read_csv('fabric_defects.csv')\n",
    "\n",
    "# Display the first few rows of the DataFrame to understand its structure\n",
    "print(data.head())\n",
    "\n",
    "# Encode categorical features\n",
    "# Encode 'Size' using LabelEncoder\n",
    "label_encoder = LabelEncoder()\n",
    "data['Size_encoded'] = label_encoder.fit_transform(data['Size'])\n",
    "\n",
    "# Replace 'Size_encoded' with the encoded 'Size' column\n",
    "X = data[['Defect ID']]  # Independent variable(s)\n",
    "y = data['Size_encoded'] # Dependent variable\n",
    "\n",
    "# Split the data into training and testing sets\n",
    "X_train, X_test, y_train, y_test = train_test_split(X, y, test_size=0.2, random_state=42)\n",
    "\n",
    "# Create and fit the linear regression model\n",
    "model = LinearRegression()\n",
    "model.fit(X_train, y_train)\n",
    "\n",
    "# Make predictions\n",
    "y_pred = model.predict(X_test)\n",
    "\n",
    "# Evaluate the model\n",
    "mse = mean_squared_error(y_test, y_pred)\n",
    "r2 = r2_score(y_test, y_pred)\n",
    "\n",
    "print(f\"Mean Squared Error: {mse}\")\n",
    "print(f\"R^2 Score: {r2}\")\n",
    "\n",
    "# Plot the results\n",
    "plt.figure(figsize=(10, 6))\n",
    "plt.scatter(X_test, y_test, color='black', label='Actual Data')\n",
    "plt.plot(X_test, y_pred, color='blue', linewidth=3, label='Fitted Line')\n",
    "plt.xlabel('Defect ID')\n",
    "plt.ylabel('Size (Encoded)')\n",
    "plt.title('Linear Regression: Defect ID vs Encoded Size')\n",
    "plt.legend()\n",
    "plt.show()\n"
   ]
  },
  {
   "cell_type": "markdown",
   "id": "f6393de2",
   "metadata": {},
   "source": [
    "# By using Logistic Regression"
   ]
  },
  {
   "cell_type": "code",
   "execution_count": 11,
   "id": "1b63936d",
   "metadata": {},
   "outputs": [
    {
     "name": "stdout",
     "output_type": "stream",
     "text": [
      "Accuracy: 0.62\n",
      "Classification Report:\n",
      "                   precision    recall  f1-score   support\n",
      "\n",
      "       Dye Defect       1.00      0.25      0.40         4\n",
      "Mechanical Defect       0.60      0.50      0.55         6\n",
      "     Weave Defect       0.60      1.00      0.75         6\n",
      "\n",
      "         accuracy                           0.62        16\n",
      "        macro avg       0.73      0.58      0.57        16\n",
      "     weighted avg       0.70      0.62      0.59        16\n",
      "\n"
     ]
    },
    {
     "data": {
      "image/png": "[encoded data removed]",
      "text/plain": [
       "<Figure size 720x432 with 2 Axes>"
      ]
     },
     "metadata": {
      "needs_background": "light"
     },
     "output_type": "display_data"
    }
   ],
   "source": [
    "import pandas as pd\n",
    "import numpy as np\n",
    "import matplotlib.pyplot as plt\n",
    "from sklearn.model_selection import train_test_split\n",
    "from sklearn.preprocessing import LabelEncoder, StandardScaler\n",
    "from sklearn.linear_model import LogisticRegression\n",
    "from sklearn.metrics import accuracy_score, classification_report\n",
    "\n",
    "# Load the CSV file into a DataFrame\n",
    "data = pd.read_csv('fabric_defects.csv')\n",
    "\n",
    "# Drop unnecessary columns and rows with missing values\n",
    "data = data.dropna(subset=['Defect Type', 'Location', 'Severity'])\n",
    "\n",
    "# Select features and target variable\n",
    "X = data[['Location', 'Severity']].copy()  # Use .copy() to avoid potential SettingWithCopyWarning\n",
    "y = data['Defect Type']\n",
    "\n",
    "# Encode categorical variables\n",
    "le_location = LabelEncoder()\n",
    "le_severity = LabelEncoder()\n",
    "X['Location'] = le_location.fit_transform(X['Location'])\n",
    "X['Severity'] = le_severity.fit_transform(X['Severity'])\n",
    "\n",
    "# Encode target variable\n",
    "le_target = LabelEncoder()\n",
    "y = le_target.fit_transform(y)\n",
    "\n",
    "# Split the data into training and testing sets\n",
    "X_train, X_test, y_train, y_test = train_test_split(X, y, test_size=0.2, random_state=42)\n",
    "\n",
    "# Standardize the features\n",
    "scaler = StandardScaler()\n",
    "X_train = scaler.fit_transform(X_train)\n",
    "X_test = scaler.transform(X_test)\n",
    "\n",
    "# Train logistic regression model\n",
    "model = LogisticRegression(random_state=42)\n",
    "model.fit(X_train, y_train)\n",
    "\n",
    "# Predictions and evaluation\n",
    "y_pred = model.predict(X_test)\n",
    "accuracy = accuracy_score(y_test, y_pred)\n",
    "report = classification_report(y_test, y_pred, target_names=le_target.classes_)\n",
    "\n",
    "print(f'Accuracy: {accuracy:.2f}')\n",
    "print('Classification Report:')\n",
    "print(report)\n",
    "\n",
    "# Function to plot decision boundary, scatter plot, and logistic regression line plot\n",
    "def plot_decision_boundary_with_line(X, y, model, scaler):\n",
    "    # Create a mesh grid\n",
    "    x_min, x_max = X[:, 0].min() - 1, X[:, 0].max() + 1\n",
    "    y_min, y_max = X[:, 1].min() - 1, X[:, 1].max() + 1\n",
    "    xx, yy = np.meshgrid(np.arange(x_min, x_max, 0.01), np.arange(y_min, y_max, 0.01))\n",
    "\n",
    "    # Flatten the grid and make predictions\n",
    "    Z = model.predict(scaler.transform(np.c_[xx.ravel(), yy.ravel()]))\n",
    "    Z = Z.reshape(xx.shape)\n",
    "\n",
    "    # Plotting\n",
    "    plt.figure(figsize=(10, 6))\n",
    "    plt.contourf(xx, yy, Z, alpha=0.3, cmap='coolwarm')\n",
    "    scatter = plt.scatter(X[:, 0], X[:, 1], c=y, edgecolor='k', cmap='coolwarm')\n",
    "    \n",
    "    # Plotting the logistic regression line\n",
    "    x_values = np.linspace(X[:, 0].min(), X[:, 0].max(), 100)\n",
    "    x_line = np.c_[x_values, np.zeros_like(x_values)]  # Second column is zeros\n",
    "    x_line_scaled = scaler.transform(x_line)\n",
    "    y_line = model.predict_proba(x_line_scaled)[:, 1]  # Probability of class 1\n",
    "\n",
    "    # Scale back the values for plotting\n",
    "    x_values_scaled = scaler.inverse_transform(x_line_scaled)[:, 0]\n",
    "    plt.plot(x_values_scaled, y_line * (y_max - y_min) + y_min, color='black', linewidth=2, label='Logistic Regression Line')\n",
    "\n",
    "    # Plot labels and title\n",
    "    plt.xlabel('Location (scaled)')\n",
    "    plt.ylabel('Severity (scaled)')\n",
    "    plt.title('Logistic Regression Decision Boundary with Line Plot')\n",
    "    plt.colorbar(scatter)\n",
    "    plt.legend()\n",
    "    plt.show()\n",
    "\n",
    "# Plot the decision boundary, scatter plot, and logistic regression line plot using scaled features\n",
    "plot_decision_boundary_with_line(X_train, y_train, model, scaler)\n",
    "\n",
    "\n"
   ]
  },
  {
   "cell_type": "code",
   "execution_count": 25,
   "id": "234c95dd",
   "metadata": {},
   "outputs": [
    {
     "name": "stdout",
     "output_type": "stream",
     "text": [
      "Initial Data:\n",
      "   Defect ID     Defect Name        Defect Type    Location  Severity    Size  \\\n",
      "0          1            Hole  Mechanical Defect   Left Edge     Major   Small   \n",
      "1          2            Tear       Weave Defect      Center  Critical  Medium   \n",
      "2          3           Stain         Dye Defect  Right Edge     Minor   Large   \n",
      "3          4         Wrinkle  Mechanical Defect      Center     Minor   Small   \n",
      "4          5  Missing Thread       Weave Defect   Left Edge     Major  Medium   \n",
      "\n",
      "  Color Date Detected    Detected By                                  Comments  \n",
      "0   NaN    2024-08-26       John Doe              Visible in the fabric's edge  \n",
      "1   NaN    2024-08-25     Jane Smith                 Requires immediate repair  \n",
      "2   Red    2024-08-24    Emily White  Stain not affecting structural integrity  \n",
      "3   NaN    2024-08-23  Michael Brown                         Temporary wrinkle  \n",
      "4   NaN    2024-08-22     Anna Black          Thread missing in a pattern area  \n",
      "Accuracy: 0.94\n",
      "Classification Report:\n",
      "                   precision    recall  f1-score   support\n",
      "\n",
      "       Dye Defect       1.00      1.00      1.00         4\n",
      "Mechanical Defect       1.00      0.83      0.91         6\n",
      "     Weave Defect       0.86      1.00      0.92         6\n",
      "\n",
      "         accuracy                           0.94        16\n",
      "        macro avg       0.95      0.94      0.94        16\n",
      "     weighted avg       0.95      0.94      0.94        16\n",
      "\n"
     ]
    }
   ],
   "source": [
    "import pandas as pd\n",
    "from sklearn.model_selection import train_test_split\n",
    "from sklearn.preprocessing import LabelEncoder\n",
    "from sklearn.neighbors import KNeighborsClassifier\n",
    "from sklearn.metrics import accuracy_score, classification_report\n",
    "from sklearn.compose import ColumnTransformer\n",
    "from sklearn.preprocessing import OneHotEncoder, StandardScaler\n",
    "from sklearn.pipeline import Pipeline\n",
    "from sklearn.impute import SimpleImputer\n",
    "\n",
    "# Load the CSV file into a DataFrame\n",
    "data = pd.read_csv('fabric_defects.csv')\n",
    "\n",
    "# Display the first few rows to understand the structure\n",
    "print(\"Initial Data:\")\n",
    "print(data.head())\n",
    "\n",
    "# Drop rows with missing target values and remove irrelevant columns\n",
    "data = data.dropna(subset=['Defect Type'])\n",
    "data = data.drop(columns=['Defect ID', 'Defect Name', 'Date Detected', 'Detected By', 'Comments'])\n",
    "\n",
    "# Define features and target variable\n",
    "X = data[['Defect Type', 'Location', 'Severity', 'Size', 'Color']]\n",
    "y = data['Defect Type']\n",
    "\n",
    "# Encode categorical features and target variable\n",
    "label_encoders = {}\n",
    "categorical_features = ['Defect Type', 'Location', 'Severity', 'Size', 'Color']\n",
    "\n",
    "# Apply label encoding to categorical features\n",
    "for column in categorical_features:\n",
    "    le = LabelEncoder()\n",
    "    X[column] = le.fit_transform(X[column].astype(str))  # Ensure all data is string type for encoding\n",
    "    label_encoders[column] = le\n",
    "\n",
    "# Encode target variable\n",
    "le_target = LabelEncoder()\n",
    "y = le_target.fit_transform(y)\n",
    "\n",
    "# Preprocessing for numerical and categorical data\n",
    "numeric_features = []  # No numerical features left after dropping columns\n",
    "preprocessor = ColumnTransformer(\n",
    "    transformers=[\n",
    "        ('cat', Pipeline(steps=[\n",
    "            ('imputer', SimpleImputer(strategy='most_frequent')),\n",
    "            ('onehot', OneHotEncoder(handle_unknown='ignore'))\n",
    "        ]), categorical_features)\n",
    "    ])\n",
    "\n",
    "# Create a pipeline that combines preprocessing and model fitting\n",
    "model = Pipeline(steps=[\n",
    "    ('preprocessor', preprocessor),\n",
    "    ('classifier', KNeighborsClassifier(n_neighbors=5))\n",
    "])\n",
    "\n",
    "# Split the data into training and testing sets\n",
    "X_train, X_test, y_train, y_test = train_test_split(X, y, test_size=0.2, random_state=42)\n",
    "\n",
    "# Fit the model\n",
    "model.fit(X_train, y_train)\n",
    "\n",
    "# Make predictions\n",
    "y_pred = model.predict(X_test)\n",
    "\n",
    "# Evaluate the model\n",
    "accuracy = accuracy_score(y_test, y_pred)\n",
    "report = classification_report(y_test, y_pred, target_names=le_target.classes_)\n",
    "\n",
    "print(f'Accuracy: {accuracy:.2f}')\n",
    "print('Classification Report:')\n",
    "print(report)\n"
   ]
  },
  {
   "cell_type": "markdown",
   "id": "5bd75f2c",
   "metadata": {},
   "source": [
    "# By using the KNN "
   ]
  },
  {
   "cell_type": "code",
   "execution_count": 30,
   "id": "9579fd1b",
   "metadata": {},
   "outputs": [
    {
     "name": "stdout",
     "output_type": "stream",
     "text": [
      "Accuracy: 0.75\n",
      "Classification Report:\n",
      "                   precision    recall  f1-score   support\n",
      "\n",
      "       Dye Defect       1.00      0.75      0.86         4\n",
      "Mechanical Defect       0.67      0.67      0.67         6\n",
      "     Weave Defect       0.71      0.83      0.77         6\n",
      "\n",
      "         accuracy                           0.75        16\n",
      "        macro avg       0.79      0.75      0.76        16\n",
      "     weighted avg       0.77      0.75      0.75        16\n",
      "\n"
     ]
    },
    {
     "data": {
      "image/png": "[encoded data removed]",
      "text/plain": [
       "<Figure size 720x504 with 2 Axes>"
      ]
     },
     "metadata": {
      "needs_background": "light"
     },
     "output_type": "display_data"
    },
    {
     "data": {
      "image/png": "[encoded data removed]",
      "text/plain": [
       "<Figure size 720x504 with 1 Axes>"
      ]
     },
     "metadata": {
      "needs_background": "light"
     },
     "output_type": "display_data"
    }
   ],
   "source": [
    "import pandas as pd\n",
    "import numpy as np\n",
    "import matplotlib.pyplot as plt\n",
    "import seaborn as sns\n",
    "from sklearn.model_selection import train_test_split\n",
    "from sklearn.preprocessing import LabelEncoder\n",
    "from sklearn.neighbors import KNeighborsClassifier\n",
    "from sklearn.metrics import accuracy_score, classification_report, confusion_matrix\n",
    "\n",
    "# Load the CSV file into a DataFrame\n",
    "data = pd.read_csv('fabric_defects.csv')\n",
    "\n",
    "# Drop rows with missing target values and remove irrelevant columns\n",
    "data = data.dropna(subset=['Defect Type'])\n",
    "data = data.drop(columns=['Defect ID', 'Defect Name', 'Date Detected', 'Detected By', 'Comments'])\n",
    "\n",
    "# Define features and target variable\n",
    "X = data[['Defect Type', 'Location', 'Severity', 'Size', 'Color']]\n",
    "y = data['Defect Type']\n",
    "\n",
    "# Encode categorical features and target variable\n",
    "label_encoders = {}\n",
    "categorical_features = ['Defect Type', 'Location', 'Severity', 'Size', 'Color']\n",
    "\n",
    "# Apply label encoding to categorical features\n",
    "for column in categorical_features:\n",
    "    le = LabelEncoder()\n",
    "    X[column] = le.fit_transform(X[column].astype(str))\n",
    "    label_encoders[column] = le\n",
    "\n",
    "# Encode target variable\n",
    "le_target = LabelEncoder()\n",
    "y = le_target.fit_transform(y)\n",
    "\n",
    "# Split the data into training and testing sets\n",
    "X_train, X_test, y_train, y_test = train_test_split(X, y, test_size=0.2, random_state=42)\n",
    "\n",
    "# Create and fit the KNN model\n",
    "model = KNeighborsClassifier(n_neighbors=5)\n",
    "model.fit(X_train, y_train)\n",
    "\n",
    "# Make predictions\n",
    "y_pred = model.predict(X_test)\n",
    "\n",
    "# Evaluate the model\n",
    "accuracy = accuracy_score(y_test, y_pred)\n",
    "report = classification_report(y_test, y_pred, target_names=le_target.classes_)\n",
    "\n",
    "print(f'Accuracy: {accuracy:.2f}')\n",
    "print('Classification Report:')\n",
    "print(report)\n",
    "\n",
    "# Confusion Matrix\n",
    "cm = confusion_matrix(y_test, y_pred, labels=le_target.transform(le_target.classes_))\n",
    "\n",
    "plt.figure(figsize=(10, 7))\n",
    "sns.heatmap(cm, annot=True, fmt='d', cmap='Blues', xticklabels=le_target.classes_, yticklabels=le_target.classes_)\n",
    "plt.xlabel('Predicted Label')\n",
    "plt.ylabel('True Label')\n",
    "plt.title('Confusion Matrix')\n",
    "plt.show()\n",
    "\n",
    "# Plot Decision Boundary (using two features for simplicity)\n",
    "# Select two features for visualization\n",
    "X_vis = X[['Location', 'Severity']]  # Replace with the two features you want to visualize\n",
    "\n",
    "# Split data again for simplicity in visualization\n",
    "X_train_vis, X_test_vis, y_train_vis, y_test_vis = train_test_split(X_vis, y, test_size=0.2, random_state=42)\n",
    "\n",
    "# Fit the model on these two features\n",
    "model.fit(X_train_vis, y_train_vis)\n",
    "\n",
    "# Create a mesh grid for plotting decision boundaries\n",
    "x_min, x_max = X_vis['Location'].min() - 1, X_vis['Location'].max() + 1\n",
    "y_min, y_max = X_vis['Severity'].min() - 1, X_vis['Severity'].max() + 1\n",
    "xx, yy = np.meshgrid(np.arange(x_min, x_max, 0.01), np.arange(y_min, y_max, 0.01))\n",
    "\n",
    "# Predict on the mesh grid\n",
    "Z = model.predict(np.c_[xx.ravel(), yy.ravel()])\n",
    "Z = Z.reshape(xx.shape)\n",
    "\n",
    "# Plot decision boundary\n",
    "plt.figure(figsize=(10, 7))\n",
    "plt.contourf(xx, yy, Z, alpha=0.3, cmap='coolwarm')\n",
    "plt.scatter(X_vis['Location'], X_vis['Severity'], c=y, edgecolor='k', cmap='coolwarm')\n",
    "plt.xlabel('Location')\n",
    "plt.ylabel('Severity')\n",
    "plt.title('Decision Boundary and Data Points')\n",
    "plt.show()\n"
   ]
  },
  {
   "cell_type": "markdown",
   "id": "c1a50f56",
   "metadata": {},
   "source": [
    "# By using the Random Forest Classifier"
   ]
  },
  {
   "cell_type": "code",
   "execution_count": 2,
   "id": "eec21fce",
   "metadata": {},
   "outputs": [
    {
     "name": "stdout",
     "output_type": "stream",
     "text": [
      "Accuracy: 1.00\n",
      "Classification Report:\n",
      "                   precision    recall  f1-score   support\n",
      "\n",
      "       Dye Defect       1.00      1.00      1.00         4\n",
      "Mechanical Defect       1.00      1.00      1.00         6\n",
      "     Weave Defect       1.00      1.00      1.00         6\n",
      "\n",
      "         accuracy                           1.00        16\n",
      "        macro avg       1.00      1.00      1.00        16\n",
      "     weighted avg       1.00      1.00      1.00        16\n",
      "\n"
     ]
    },
    {
     "data": {
      "image/png": "[encoded data removed]",
      "text/plain": [
       "<Figure size 720x504 with 2 Axes>"
      ]
     },
     "metadata": {
      "needs_background": "light"
     },
     "output_type": "display_data"
    },
    {
     "data": {
      "image/png": "[encoded data removed]",
      "text/plain": [
       "<Figure size 720x504 with 1 Axes>"
      ]
     },
     "metadata": {
      "needs_background": "light"
     },
     "output_type": "display_data"
    }
   ],
   "source": [
    "import pandas as pd\n",
    "import numpy as np\n",
    "import matplotlib.pyplot as plt\n",
    "import seaborn as sns\n",
    "from sklearn.model_selection import train_test_split\n",
    "from sklearn.preprocessing import LabelEncoder\n",
    "from sklearn.ensemble import RandomForestClassifier\n",
    "from sklearn.metrics import accuracy_score, classification_report, confusion_matrix\n",
    "\n",
    "# Load the CSV file into a DataFrame\n",
    "data = pd.read_csv('fabric_defects.csv')\n",
    "\n",
    "# Drop rows with missing target values and remove irrelevant columns\n",
    "data = data.dropna(subset=['Defect Type'])\n",
    "data = data.drop(columns=['Defect ID', 'Defect Name', 'Date Detected', 'Detected By', 'Comments'])\n",
    "\n",
    "# Define features and target variable\n",
    "X = data[['Defect Type', 'Location', 'Severity', 'Size', 'Color']]\n",
    "y = data['Defect Type']\n",
    "\n",
    "# Encode categorical features and target variable\n",
    "label_encoders = {}\n",
    "categorical_features = ['Defect Type', 'Location', 'Severity', 'Size', 'Color']\n",
    "\n",
    "# Apply label encoding to categorical features\n",
    "for column in categorical_features:\n",
    "    le = LabelEncoder()\n",
    "    X[column] = le.fit_transform(X[column].astype(str))\n",
    "    label_encoders[column] = le\n",
    "\n",
    "# Encode target variable\n",
    "le_target = LabelEncoder()\n",
    "y = le_target.fit_transform(y)\n",
    "\n",
    "# Split the data into training and testing sets\n",
    "X_train, X_test, y_train, y_test = train_test_split(X, y, test_size=0.2, random_state=42)\n",
    "\n",
    "# Create and fit the Random Forest model\n",
    "model = RandomForestClassifier(n_estimators=100, random_state=42)\n",
    "model.fit(X_train, y_train)\n",
    "\n",
    "# Make predictions\n",
    "y_pred = model.predict(X_test)\n",
    "\n",
    "# Evaluate the model\n",
    "accuracy = accuracy_score(y_test, y_pred)\n",
    "report = classification_report(y_test, y_pred, target_names=le_target.classes_)\n",
    "\n",
    "print(f'Accuracy: {accuracy:.2f}')\n",
    "print('Classification Report:')\n",
    "print(report)\n",
    "\n",
    "# Confusion Matrix\n",
    "cm = confusion_matrix(y_test, y_pred, labels=le_target.transform(le_target.classes_))\n",
    "\n",
    "plt.figure(figsize=(10, 7))\n",
    "sns.heatmap(cm, annot=True, fmt='d', cmap='Blues', xticklabels=le_target.classes_, yticklabels=le_target.classes_)\n",
    "plt.xlabel('Predicted Label')\n",
    "plt.ylabel('True Label')\n",
    "plt.title('Confusion Matrix')\n",
    "plt.show()\n",
    "\n",
    "# Plot Decision Boundary (using two features for simplicity)\n",
    "# Select two features for visualization\n",
    "X_vis = X[['Location', 'Severity']]  # Replace with the two features you want to visualize\n",
    "\n",
    "# Split data again for simplicity in visualization\n",
    "X_train_vis, X_test_vis, y_train_vis, y_test_vis = train_test_split(X_vis, y, test_size=0.2, random_state=42)\n",
    "\n",
    "# Fit the model on these two features\n",
    "model.fit(X_train_vis, y_train_vis)\n",
    "\n",
    "# Create a mesh grid for plotting decision boundaries\n",
    "x_min, x_max = X_vis['Location'].min() - 1, X_vis['Location'].max() + 1\n",
    "y_min, y_max = X_vis['Severity'].min() - 1, X_vis['Severity'].max() + 1\n",
    "xx, yy = np.meshgrid(np.arange(x_min, x_max, 0.01), np.arange(y_min, y_max, 0.01))\n",
    "\n",
    "# Predict on the mesh grid\n",
    "Z = model.predict(np.c_[xx.ravel(), yy.ravel()])\n",
    "Z = Z.reshape(xx.shape)\n",
    "\n",
    "# Plot decision boundary\n",
    "plt.figure(figsize=(10, 7))\n",
    "plt.contourf(xx, yy, Z, alpha=0.3, cmap='coolwarm')\n",
    "plt.scatter(X_vis['Location'], X_vis['Severity'], c=y, edgecolor='k', cmap='coolwarm')\n",
    "plt.xlabel('Location')\n",
    "plt.ylabel('Severity')\n",
    "plt.title('Decision Boundary and Data Points')\n",
    "plt.show()\n"
   ]
  },
  {
   "cell_type": "markdown",
   "id": "5b5a6ccb",
   "metadata": {},
   "source": [
    "# By using the SVM "
   ]
  },
  {
   "cell_type": "code",
   "execution_count": 3,
   "id": "a0c44e4d",
   "metadata": {},
   "outputs": [
    {
     "name": "stdout",
     "output_type": "stream",
     "text": [
      "Accuracy: 1.00\n",
      "Classification Report:\n",
      "                   precision    recall  f1-score   support\n",
      "\n",
      "       Dye Defect       1.00      1.00      1.00         4\n",
      "Mechanical Defect       1.00      1.00      1.00         6\n",
      "     Weave Defect       1.00      1.00      1.00         6\n",
      "\n",
      "         accuracy                           1.00        16\n",
      "        macro avg       1.00      1.00      1.00        16\n",
      "     weighted avg       1.00      1.00      1.00        16\n",
      "\n"
     ]
    },
    {
     "data": {
      "image/png": "[encoded data removed]",
      "text/plain": [
       "<Figure size 720x504 with 2 Axes>"
      ]
     },
     "metadata": {
      "needs_background": "light"
     },
     "output_type": "display_data"
    },
    {
     "data": {
      "image/png": "[encoded data removed]",
      "text/plain": [
       "<Figure size 720x504 with 1 Axes>"
      ]
     },
     "metadata": {
      "needs_background": "light"
     },
     "output_type": "display_data"
    }
   ],
   "source": [
    "import pandas as pd\n",
    "import numpy as np\n",
    "import matplotlib.pyplot as plt\n",
    "import seaborn as sns\n",
    "from sklearn.model_selection import train_test_split\n",
    "from sklearn.preprocessing import LabelEncoder, StandardScaler\n",
    "from sklearn.svm import SVC\n",
    "from sklearn.metrics import accuracy_score, classification_report, confusion_matrix\n",
    "\n",
    "# Load the CSV file into a DataFrame\n",
    "data = pd.read_csv('fabric_defects.csv')\n",
    "\n",
    "# Drop rows with missing target values and remove irrelevant columns\n",
    "data = data.dropna(subset=['Defect Type'])\n",
    "data = data.drop(columns=['Defect ID', 'Defect Name', 'Date Detected', 'Detected By', 'Comments'])\n",
    "\n",
    "# Define features and target variable\n",
    "X = data[['Defect Type', 'Location', 'Severity', 'Size', 'Color']]\n",
    "y = data['Defect Type']\n",
    "\n",
    "# Encode categorical features and target variable\n",
    "label_encoders = {}\n",
    "categorical_features = ['Defect Type', 'Location', 'Severity', 'Size', 'Color']\n",
    "\n",
    "# Apply label encoding to categorical features\n",
    "for column in categorical_features:\n",
    "    le = LabelEncoder()\n",
    "    X[column] = le.fit_transform(X[column].astype(str))\n",
    "    label_encoders[column] = le\n",
    "\n",
    "# Encode target variable\n",
    "le_target = LabelEncoder()\n",
    "y = le_target.fit_transform(y)\n",
    "\n",
    "# Split the data into training and testing sets\n",
    "X_train, X_test, y_train, y_test = train_test_split(X, y, test_size=0.2, random_state=42)\n",
    "\n",
    "# Standardize features\n",
    "scaler = StandardScaler()\n",
    "X_train = scaler.fit_transform(X_train)\n",
    "X_test = scaler.transform(X_test)\n",
    "\n",
    "# Create and fit the SVM model\n",
    "model = SVC(kernel='linear', probability=True, random_state=42)\n",
    "model.fit(X_train, y_train)\n",
    "\n",
    "# Make predictions\n",
    "y_pred = model.predict(X_test)\n",
    "\n",
    "# Evaluate the model\n",
    "accuracy = accuracy_score(y_test, y_pred)\n",
    "report = classification_report(y_test, y_pred, target_names=le_target.classes_)\n",
    "\n",
    "print(f'Accuracy: {accuracy:.2f}')\n",
    "print('Classification Report:')\n",
    "print(report)\n",
    "\n",
    "# Confusion Matrix\n",
    "cm = confusion_matrix(y_test, y_pred, labels=le_target.transform(le_target.classes_))\n",
    "\n",
    "plt.figure(figsize=(10, 7))\n",
    "sns.heatmap(cm, annot=True, fmt='d', cmap='Blues', xticklabels=le_target.classes_, yticklabels=le_target.classes_)\n",
    "plt.xlabel('Predicted Label')\n",
    "plt.ylabel('True Label')\n",
    "plt.title('Confusion Matrix')\n",
    "plt.show()\n",
    "\n",
    "# Plot Decision Boundary (using two features for simplicity)\n",
    "# Select two features for visualization\n",
    "X_vis = X[['Location', 'Severity']]  # Replace with the two features you want to visualize\n",
    "\n",
    "# Encode and standardize for visualization\n",
    "X_vis_scaled = scaler.fit_transform(X_vis)\n",
    "\n",
    "# Split data again for simplicity in visualization\n",
    "X_train_vis, X_test_vis, y_train_vis, y_test_vis = train_test_split(X_vis_scaled, y, test_size=0.2, random_state=42)\n",
    "\n",
    "# Fit the model on these two features\n",
    "model.fit(X_train_vis, y_train_vis)\n",
    "\n",
    "# Create a mesh grid for plotting decision boundaries\n",
    "x_min, x_max = X_vis_scaled[:, 0].min() - 1, X_vis_scaled[:, 0].max() + 1\n",
    "y_min, y_max = X_vis_scaled[:, 1].min() - 1, X_vis_scaled[:, 1].max() + 1\n",
    "xx, yy = np.meshgrid(np.arange(x_min, x_max, 0.01), np.arange(y_min, y_max, 0.01))\n",
    "\n",
    "# Predict on the mesh grid\n",
    "Z = model.predict(np.c_[xx.ravel(), yy.ravel()])\n",
    "Z = Z.reshape(xx.shape)\n",
    "\n",
    "# Plot decision boundary\n",
    "plt.figure(figsize=(10, 7))\n",
    "plt.contourf(xx, yy, Z, alpha=0.3, cmap='coolwarm')\n",
    "plt.scatter(X_vis_scaled[:, 0], X_vis_scaled[:, 1], c=y, edgecolor='k', cmap='coolwarm')\n",
    "plt.xlabel('Location (scaled)')\n",
    "plt.ylabel('Severity (scaled)')\n",
    "plt.title('Decision Boundary and Data Points (SVM)')\n",
    "plt.show()\n"
   ]
  },
  {
   "cell_type": "markdown",
   "id": "79cb5edf",
   "metadata": {},
   "source": [
    "# predicting the defect"
   ]
  },
  {
   "cell_type": "code",
   "execution_count": 28,
   "id": "ead8db5c",
   "metadata": {},
   "outputs": [
    {
     "name": "stdout",
     "output_type": "stream",
     "text": [
      "This is a Weave Defect.\n"
     ]
    }
   ],
   "source": [
    "def predict_defect(defect_name, defect_type, location, severity, size):\n",
    "    # Basic rule-based conditions for demonstration\n",
    "    if defect_type.lower() == 'weave defect':\n",
    "        return 'Weave Defect'\n",
    "    elif defect_type.lower() == 'mechanical defect':\n",
    "        return 'Mechanical Defect'\n",
    "    elif defect_type.lower() == 'dye defect':\n",
    "        return 'Dye Defect'\n",
    "    else:\n",
    "        return 'Unknown Defect'\n",
    "\n",
    "# Example usage\n",
    "defect_type = predict_defect('Patch', 'Weave Defect', 'Center', 'Major', 'Small')\n",
    "if defect_type == 'Weave Defect':\n",
    "    print('This is a Weave Defect.')\n",
    "else:\n",
    "    print('This is not a Weave Defect.')\n",
    "\n"
   ]
  },
  {
   "cell_type": "code",
   "execution_count": 43,
   "id": "452704b1",
   "metadata": {},
   "outputs": [
    {
     "name": "stdout",
     "output_type": "stream",
     "text": [
      "This is a Dye Defect.\n"
     ]
    }
   ],
   "source": [
    "def predict_defect(defect_name, defect_type, location, severity, size):\n",
    "    # Basic rule-based conditions for demonstration\n",
    "    if defect_type.lower() == 'weave defect':\n",
    "        return 'Weave Defect'\n",
    "    elif defect_type.lower() == 'mechanical defect':\n",
    "        return 'Mechanical Defect'\n",
    "    elif defect_type.lower() == 'dye defect':\n",
    "        return 'Dye Defect'\n",
    "    else:\n",
    "        return 'Unknown Defect'\n",
    "\n",
    "# Example usage\n",
    "defect_type = predict_defect('Patch', 'Dye Defect', 'Center', 'Major', 'Small')\n",
    "if defect_type == 'Dye Defect':\n",
    "    print('This is a Dye Defect.')\n",
    "else:\n",
    "    print('This is not a Dye Defect.')\n"
   ]
  },
  {
   "cell_type": "code",
   "execution_count": 44,
   "id": "dcf0f989",
   "metadata": {
    "scrolled": true
   },
   "outputs": [
    {
     "name": "stdout",
     "output_type": "stream",
     "text": [
      "This is a mechanical Defect.\n"
     ]
    }
   ],
   "source": [
    "def predict_defect(defect_name, defect_type, location, severity, size):\n",
    "    # Basic rule-based conditions for demonstration\n",
    "    if defect_type.lower() == 'weave defect':\n",
    "        return 'Weave Defect'\n",
    "    elif defect_type.lower() == 'mechanical defect':\n",
    "        return 'Mechanical Defect'\n",
    "    elif defect_type.lower() == 'dye defect':\n",
    "        return 'Dye Defect'\n",
    "    else:\n",
    "        return 'Unknown Defect'\n",
    "\n",
    "# Example usage\n",
    "defect_type = predict_defect('Patch', 'mechanical Defect', 'Center', 'Major', 'Small')\n",
    "if defect_type == 'Mechanical Defect':\n",
    "    print('This is a mechanical Defect.')\n",
    "else:\n",
    "    print('This is not a mechanical Defect.')"
   ]
  },
  {
   "cell_type": "code",
   "execution_count": null,
   "id": "ea620d6d",
   "metadata": {},
   "outputs": [],
   "source": []
  }
 ],
 "metadata": {
  "kernelspec": {
   "display_name": "Python 3 (ipykernel)",
   "language": "python",
   "name": "python3"
  },
  "language_info": {
   "codemirror_mode": {
    "name": "ipython",
    "version": 3
   },
   "file_extension": ".py",
   "mimetype": "text/x-python",
   "name": "python",
   "nbconvert_exporter": "python",
   "pygments_lexer": "ipython3",
   "version": "3.9.7"
  }
 },
 "nbformat": 4,
 "nbformat_minor": 5
}
